{
 "cells": [
  {
   "cell_type": "code",
   "execution_count": 16,
   "metadata": {},
   "outputs": [
    {
     "name": "stdout",
     "output_type": "stream",
     "text": [
      "now reframing the data\n",
      "creating a new column hlpct\n",
      "creating a new column pctchg\n",
      "reframing the data with the required columns for the second time\n",
      "printing the reframed data\n",
      "the length of x is 3389\n",
      "the  length  of y is 3389\n"
     ]
    }
   ],
   "source": [
    "import pandas as pd\n",
    "import quandl  #Quandl needs to be written in small letter \n",
    "import numpy as np\n",
    "import math\n",
    "from sklearn import preprocessing\n",
    "from sklearn.model_selection import cross_validate\n",
    "from sklearn import svm\n",
    "from sklearn.linear_model import LinearRegression\n",
    "from sklearn.model_selection import train_test_split\n",
    "\n",
    "df=quandl.get('WIKI/GOOGL') #df stands for the data frame or the frame we will be working with\n",
    "print(\"now reframing the data\")\n",
    "df=df[['Open','High','Low','Close','Volume']] #reframing the data\n",
    "df\n",
    "print(\"creating a new column hlpct\")\n",
    "df['hlpct']=(df['High']-df['Close'])/df['Close']\n",
    "print(\"creating a new column pctchg\")\n",
    "df['pctchg']=(df['Close']-df['Open'])/df['Open']\n",
    "print(\"reframing the data with the required columns for the second time\")\n",
    "df=df[['Close','hlpct','pctchg','Volume']]\n",
    "print(\"printing the reframed data\")\n",
    "\n",
    "forecast_col='Close'\n",
    "df.fillna(-99999,inplace=True)\n",
    "forecast_out=int(math.ceil(0.01*len(df)))\n",
    "df['lable']=df[forecast_col].shift(-forecast_out)\n",
    "\n",
    "df.dropna(inplace=True)\n",
    "x=np.array(df.drop(['lable'],1))\n",
    "y=np.array(df['lable'])\n",
    "x=preprocessing.scale(x)\n",
    "#df.dropna(inplace=True)\n",
    "print(\"the length of x is\",len(x))\n",
    "print(\"the  length  of y is\", len(y))\n",
    "df\n",
    "x_train,x_test,y_train,y_test=train_test_split(x,y,test_size=0.2)\n",
    "\n",
    "#after pickeling the entire part from here onward can be skipped\n",
    "\n",
    "clf1=LinearRegression(n_jobs=10) #number of jobs being run parally at a time making it faster\n",
    "clf2=svm.SVR()\n",
    "clf1.fit(x_train,y_train)\n",
    "clf2.fit(x_train,y_train)\n",
    "print(\"the accuracy for linear reagression\",clf1.score(x_test,y_test))\n",
    "print(\"the accuracy for support vector regression\",clf2.score(x_test,y_test))\n",
    "print(\"the days printing ahead\",forecast_out)\n",
    "\n",
    "#the classifier is  stored in the state"
   ]
  },
  {
   "cell_type": "code",
   "execution_count": 17,
   "metadata": {},
   "outputs": [
    {
     "name": "stdout",
     "output_type": "stream",
     "text": [
      "it is important to save the trained calssifier\n",
      "the state of the classifier is saved after ttraining\n"
     ]
    }
   ],
   "source": [
    "print(\"it is important to save the trained calssifier\")\n",
    "print(\"the state of the classifier is saved after ttraining\")\n",
    "import pickle\n",
    "\n",
    "#to save\n",
    "with open('linearregression.pickle','wb') as f:\n",
    "    pickle.dump(clf1,f)\n",
    "    \n",
    "    \n",
    "#to load it again\n",
    "\n",
    "pickle_in=open('linearregression.pickle','rb')\n",
    "clf=pickle.load(pickle_in)"
   ]
  },
  {
   "cell_type": "code",
   "execution_count": 18,
   "metadata": {},
   "outputs": [
    {
     "data": {
      "text/plain": [
       "array([ 634.90359453, 1035.69280523,  559.06257257, ...,  616.50959913,\n",
       "        687.29474555,  225.02612791])"
      ]
     },
     "execution_count": 18,
     "metadata": {},
     "output_type": "execute_result"
    }
   ],
   "source": [
    "clf.predict(x_train)"
   ]
  },
  {
   "cell_type": "code",
   "execution_count": 19,
   "metadata": {},
   "outputs": [
    {
     "data": {
      "text/plain": [
       "0.8864735684686379"
      ]
     },
     "execution_count": 19,
     "metadata": {},
     "output_type": "execute_result"
    }
   ],
   "source": [
    "clf.score(x_test,y_test)"
   ]
  },
  {
   "cell_type": "code",
   "execution_count": null,
   "metadata": {},
   "outputs": [],
   "source": [
    "#the picked data is saved in the directory we are working with by the name \"linearregression.pickle\""
   ]
  }
 ],
 "metadata": {
  "kernelspec": {
   "display_name": "Python 3",
   "language": "python",
   "name": "python3"
  },
  "language_info": {
   "codemirror_mode": {
    "name": "ipython",
    "version": 3
   },
   "file_extension": ".py",
   "mimetype": "text/x-python",
   "name": "python",
   "nbconvert_exporter": "python",
   "pygments_lexer": "ipython3",
   "version": "3.7.3"
  }
 },
 "nbformat": 4,
 "nbformat_minor": 2
}
